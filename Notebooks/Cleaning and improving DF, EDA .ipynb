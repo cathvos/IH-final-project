{
 "cells": [
  {
   "cell_type": "code",
   "execution_count": 1,
   "id": "38e3ccff",
   "metadata": {},
   "outputs": [],
   "source": [
    "import pandas as pd"
   ]
  },
  {
   "cell_type": "code",
   "execution_count": 2,
   "id": "f7fe13f2",
   "metadata": {},
   "outputs": [],
   "source": [
    "df = pd.read_csv ('/Users/cathalijnvos/Documents/GitHub/IH-final-project/Data/df_final.csv')"
   ]
  },
  {
   "cell_type": "code",
   "execution_count": 3,
   "id": "ebb17486",
   "metadata": {},
   "outputs": [],
   "source": [
    "df[\"Ingredients\"] = df[\"Ingredients\"].str.lower()"
   ]
  },
  {
   "cell_type": "code",
   "execution_count": 4,
   "id": "5d898019",
   "metadata": {},
   "outputs": [
    {
     "data": {
      "text/html": [
       "<div>\n",
       "<style scoped>\n",
       "    .dataframe tbody tr th:only-of-type {\n",
       "        vertical-align: middle;\n",
       "    }\n",
       "\n",
       "    .dataframe tbody tr th {\n",
       "        vertical-align: top;\n",
       "    }\n",
       "\n",
       "    .dataframe thead th {\n",
       "        text-align: right;\n",
       "    }\n",
       "</style>\n",
       "<table border=\"1\" class=\"dataframe\">\n",
       "  <thead>\n",
       "    <tr style=\"text-align: right;\">\n",
       "      <th></th>\n",
       "      <th>Date</th>\n",
       "      <th>Ingredients</th>\n",
       "    </tr>\n",
       "  </thead>\n",
       "  <tbody>\n",
       "    <tr>\n",
       "      <th>0</th>\n",
       "      <td>2022-05</td>\n",
       "      <td>should i make more smoothie recipes?\\n\\n1/2 ba...</td>\n",
       "    </tr>\n",
       "    <tr>\n",
       "      <th>1</th>\n",
       "      <td>2022-05</td>\n",
       "      <td>the weekend isn’t over, so enjoy it with some ...</td>\n",
       "    </tr>\n",
       "    <tr>\n",
       "      <th>2</th>\n",
       "      <td>2022-05</td>\n",
       "      <td>let’s make the drink of the summer! yes, it’s ...</td>\n",
       "    </tr>\n",
       "    <tr>\n",
       "      <th>3</th>\n",
       "      <td>2022-05</td>\n",
       "      <td>another easy weekend cocktail, peach bourbon s...</td>\n",
       "    </tr>\n",
       "    <tr>\n",
       "      <th>4</th>\n",
       "      <td>2022-05</td>\n",
       "      <td>have you had an irish coffee before? better qu...</td>\n",
       "    </tr>\n",
       "    <tr>\n",
       "      <th>...</th>\n",
       "      <td>...</td>\n",
       "      <td>...</td>\n",
       "    </tr>\n",
       "    <tr>\n",
       "      <th>1276</th>\n",
       "      <td>2013-04</td>\n",
       "      <td>1 oz gin,.75oz domaine de canton,.25oz aperol,...</td>\n",
       "    </tr>\n",
       "    <tr>\n",
       "      <th>1277</th>\n",
       "      <td>2013-04</td>\n",
       "      <td>1oz rye,1oz allspice dram,1oz creme de violett...</td>\n",
       "    </tr>\n",
       "    <tr>\n",
       "      <th>1278</th>\n",
       "      <td>2013-07</td>\n",
       "      <td>2oz bourbon,.75oz lemon juice,.75oz simple syr...</td>\n",
       "    </tr>\n",
       "    <tr>\n",
       "      <th>1279</th>\n",
       "      <td>2014-11</td>\n",
       "      <td>1.5oz apple brandy,.75oz yellow chartreuse,.75...</td>\n",
       "    </tr>\n",
       "    <tr>\n",
       "      <th>1280</th>\n",
       "      <td>2013-04</td>\n",
       "      <td>2oz reposado tequila,1oz st. germain,.75oz yel...</td>\n",
       "    </tr>\n",
       "  </tbody>\n",
       "</table>\n",
       "<p>1281 rows × 2 columns</p>\n",
       "</div>"
      ],
      "text/plain": [
       "         Date                                        Ingredients\n",
       "0     2022-05  should i make more smoothie recipes?\\n\\n1/2 ba...\n",
       "1     2022-05  the weekend isn’t over, so enjoy it with some ...\n",
       "2     2022-05  let’s make the drink of the summer! yes, it’s ...\n",
       "3     2022-05  another easy weekend cocktail, peach bourbon s...\n",
       "4     2022-05  have you had an irish coffee before? better qu...\n",
       "...       ...                                                ...\n",
       "1276  2013-04  1 oz gin,.75oz domaine de canton,.25oz aperol,...\n",
       "1277  2013-04  1oz rye,1oz allspice dram,1oz creme de violett...\n",
       "1278  2013-07  2oz bourbon,.75oz lemon juice,.75oz simple syr...\n",
       "1279  2014-11  1.5oz apple brandy,.75oz yellow chartreuse,.75...\n",
       "1280  2013-04  2oz reposado tequila,1oz st. germain,.75oz yel...\n",
       "\n",
       "[1281 rows x 2 columns]"
      ]
     },
     "execution_count": 4,
     "metadata": {},
     "output_type": "execute_result"
    }
   ],
   "source": [
    "df"
   ]
  },
  {
   "cell_type": "code",
   "execution_count": 5,
   "id": "ac015bf4",
   "metadata": {},
   "outputs": [],
   "source": [
    "# starts with or regex % to get all or strawber in (last, best option)"
   ]
  },
  {
   "cell_type": "code",
   "execution_count": 6,
   "id": "c10cbfde",
   "metadata": {},
   "outputs": [
    {
     "ename": "NameError",
     "evalue": "name 'mint' is not defined",
     "output_type": "error",
     "traceback": [
      "\u001b[0;31m---------------------------------------------------------------------------\u001b[0m",
      "\u001b[0;31mNameError\u001b[0m                                 Traceback (most recent call last)",
      "Input \u001b[0;32mIn [6]\u001b[0m, in \u001b[0;36m<cell line: 1>\u001b[0;34m()\u001b[0m\n\u001b[0;32m----> 1\u001b[0m Herbs\u001b[38;5;241m=\u001b[39m[\u001b[43mmint\u001b[49m, basil, cardamon, cinnamon, coriander, ginger, lavender, rosemary, eucalyptus,\n\u001b[1;32m      2\u001b[0m        lemongrass, tarragon, vanilla, chamomile, cocoa]\n\u001b[1;32m      4\u001b[0m Herbs\u001b[38;5;241m=\u001b[39m[mint, ment, basil, cardamon, cinnamon, coriander, ginger, lavender, rosemar, eucalypt,\n\u001b[1;32m      5\u001b[0m        lemongrass, tarragon, vanilla, chamomile, cocoa]\n",
      "\u001b[0;31mNameError\u001b[0m: name 'mint' is not defined"
     ]
    }
   ],
   "source": [
    "Herbs=[mint, basil, cardamon, cinnamon, coriander, ginger, lavender, rosemary, eucalyptus,\n",
    "       lemongrass, tarragon, vanilla, chamomile, cocoa]\n",
    "\n",
    "Herbs=[mint, ment, basil, cardamon, cinnamon, coriander, ginger, lavender, rosemar, eucalypt,\n",
    "       lemongrass, tarragon, vanilla, chamomile, cocoa]"
   ]
  },
  {
   "cell_type": "code",
   "execution_count": null,
   "id": "03497054",
   "metadata": {},
   "outputs": [],
   "source": [
    "Complements=[milk, sparkling water, cucumber, chilli, syrup, coffee, bitters, cream, lemonade]\n",
    "\n",
    "Complements=[milk, sparkling water, cucumber, chilli, syrup, coffee, bitter, cream, lemonade]"
   ]
  },
  {
   "cell_type": "code",
   "execution_count": null,
   "id": "dd58f513",
   "metadata": {},
   "outputs": [],
   "source": [
    "Fruits=[lemon, banana, lime, citrus, watermelon, peach, pineapple, orange, cranberry, strawberry, blackberry, raspberry, \n",
    "blueberry, mango, papaya, apple, passion fruit, apricot, maracuya, cherry, kiwi, plum, grapes, fig, grapefruit, \n",
    "pomegranate, coconut, pumpkin]\n",
    "\n",
    "Fruits=[lemon, banana, lime, citrus, watermelon, peach, pineapple, orange, cranber, strawber, blackber, raspber, \n",
    "blueber, mango, papaya, apple, passion fruit, apricot, maracuya, cher, kiwi, plum, grape, fig, grapefruit, \n",
    "pomegranate, coconut, pumpkin]"
   ]
  },
  {
   "cell_type": "code",
   "execution_count": null,
   "id": "954bfdcc",
   "metadata": {},
   "outputs": [],
   "source": [
    "spirits=[sparkling wine, champagne, prosecco, rum, vodka, gin, vermouth, cognac, whisky, bourbon, tequila, cachaça,\n",
    "         liqueurs, mezcal]"
   ]
  },
  {
   "cell_type": "code",
   "execution_count": null,
   "id": "29771a8b",
   "metadata": {},
   "outputs": [],
   "source": []
  }
 ],
 "metadata": {
  "kernelspec": {
   "display_name": "Python 3 (ipykernel)",
   "language": "python",
   "name": "python3"
  },
  "language_info": {
   "codemirror_mode": {
    "name": "ipython",
    "version": 3
   },
   "file_extension": ".py",
   "mimetype": "text/x-python",
   "name": "python",
   "nbconvert_exporter": "python",
   "pygments_lexer": "ipython3",
   "version": "3.8.2"
  }
 },
 "nbformat": 4,
 "nbformat_minor": 5
}
