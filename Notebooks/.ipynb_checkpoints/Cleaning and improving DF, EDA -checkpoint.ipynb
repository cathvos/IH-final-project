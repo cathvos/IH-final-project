{
 "cells": [
  {
   "cell_type": "code",
   "execution_count": 1,
   "id": "38e3ccff",
   "metadata": {},
   "outputs": [],
   "source": [
    "import pandas as pd"
   ]
  },
  {
   "cell_type": "code",
   "execution_count": 2,
   "id": "f7fe13f2",
   "metadata": {},
   "outputs": [],
   "source": [
    "df = pd.read_csv ('/Users/cathalijnvos/Documents/GitHub/IH-final-project/Data/df_comp.csv')"
   ]
  },
  {
   "cell_type": "code",
   "execution_count": 4,
   "id": "ebb17486",
   "metadata": {},
   "outputs": [],
   "source": [
    "df[\"Ingredients\"] = df[\"Ingredients\"].str.lower()"
   ]
  },
  {
   "cell_type": "code",
   "execution_count": 5,
   "id": "5d898019",
   "metadata": {},
   "outputs": [
    {
     "data": {
      "text/html": [
       "<div>\n",
       "<style scoped>\n",
       "    .dataframe tbody tr th:only-of-type {\n",
       "        vertical-align: middle;\n",
       "    }\n",
       "\n",
       "    .dataframe tbody tr th {\n",
       "        vertical-align: top;\n",
       "    }\n",
       "\n",
       "    .dataframe thead th {\n",
       "        text-align: right;\n",
       "    }\n",
       "</style>\n",
       "<table border=\"1\" class=\"dataframe\">\n",
       "  <thead>\n",
       "    <tr style=\"text-align: right;\">\n",
       "      <th></th>\n",
       "      <th>Date</th>\n",
       "      <th>Ingredients</th>\n",
       "    </tr>\n",
       "  </thead>\n",
       "  <tbody>\n",
       "    <tr>\n",
       "      <th>0</th>\n",
       "      <td>2022-05</td>\n",
       "      <td>should i make more smoothie recipes?\\n\\n1/2 ba...</td>\n",
       "    </tr>\n",
       "    <tr>\n",
       "      <th>1</th>\n",
       "      <td>2022-05</td>\n",
       "      <td>the weekend isn’t over, so enjoy it with some ...</td>\n",
       "    </tr>\n",
       "    <tr>\n",
       "      <th>2</th>\n",
       "      <td>2022-05</td>\n",
       "      <td>let’s make the drink of the summer! yes, it’s ...</td>\n",
       "    </tr>\n",
       "    <tr>\n",
       "      <th>3</th>\n",
       "      <td>2022-05</td>\n",
       "      <td>another easy weekend cocktail, peach bourbon s...</td>\n",
       "    </tr>\n",
       "    <tr>\n",
       "      <th>4</th>\n",
       "      <td>2022-05</td>\n",
       "      <td>have you had an irish coffee before? better qu...</td>\n",
       "    </tr>\n",
       "    <tr>\n",
       "      <th>...</th>\n",
       "      <td>...</td>\n",
       "      <td>...</td>\n",
       "    </tr>\n",
       "    <tr>\n",
       "      <th>1153</th>\n",
       "      <td>2017-01</td>\n",
       "      <td>amaretto, rum,  , kool-aid,  ,  ,  ,  ,  ,</td>\n",
       "    </tr>\n",
       "    <tr>\n",
       "      <th>1154</th>\n",
       "      <td>2017-01</td>\n",
       "      <td>cointreau, lemon juice,  , ice, lemon,  ,  ,  ...</td>\n",
       "    </tr>\n",
       "    <tr>\n",
       "      <th>1155</th>\n",
       "      <td>2017-01</td>\n",
       "      <td>beer, root beer,  , lemonade, coca-cola, 7-up,...</td>\n",
       "    </tr>\n",
       "    <tr>\n",
       "      <th>1156</th>\n",
       "      <td>2017-01</td>\n",
       "      <td>vodka, ouzo,  ,  ,  ,  ,  ,  ,  ,</td>\n",
       "    </tr>\n",
       "    <tr>\n",
       "      <th>1157</th>\n",
       "      <td>2017-01</td>\n",
       "      <td>sambuca, bailey's irish cream,  , white creme ...</td>\n",
       "    </tr>\n",
       "  </tbody>\n",
       "</table>\n",
       "<p>1158 rows × 2 columns</p>\n",
       "</div>"
      ],
      "text/plain": [
       "         Date                                        Ingredients\n",
       "0     2022-05  should i make more smoothie recipes?\\n\\n1/2 ba...\n",
       "1     2022-05  the weekend isn’t over, so enjoy it with some ...\n",
       "2     2022-05  let’s make the drink of the summer! yes, it’s ...\n",
       "3     2022-05  another easy weekend cocktail, peach bourbon s...\n",
       "4     2022-05  have you had an irish coffee before? better qu...\n",
       "...       ...                                                ...\n",
       "1153  2017-01       amaretto, rum,  , kool-aid,  ,  ,  ,  ,  ,  \n",
       "1154  2017-01  cointreau, lemon juice,  , ice, lemon,  ,  ,  ...\n",
       "1155  2017-01  beer, root beer,  , lemonade, coca-cola, 7-up,...\n",
       "1156  2017-01                vodka, ouzo,  ,  ,  ,  ,  ,  ,  ,  \n",
       "1157  2017-01  sambuca, bailey's irish cream,  , white creme ...\n",
       "\n",
       "[1158 rows x 2 columns]"
      ]
     },
     "execution_count": 5,
     "metadata": {},
     "output_type": "execute_result"
    }
   ],
   "source": [
    "df"
   ]
  },
  {
   "cell_type": "code",
   "execution_count": null,
   "id": "ac015bf4",
   "metadata": {},
   "outputs": [],
   "source": [
    "starts with or regex % to get all or strawber in (last, best option)"
   ]
  },
  {
   "cell_type": "code",
   "execution_count": null,
   "id": "c10cbfde",
   "metadata": {},
   "outputs": [],
   "source": [
    "Herbs=[mint, basil, cardamon, cinnamon, coriander, ginger, lavender, rosemary, eucalyptus,\n",
    "       lemongrass, tarragon, vanilla, chamomile, cocoa]\n",
    "\n",
    "Herbs=[mint, ment, basil, cardamon, cinnamon, coriander, ginger, lavender, rosemar, eucalypt,\n",
    "       lemongrass, tarragon, vanilla, chamomile, cocoa]"
   ]
  },
  {
   "cell_type": "code",
   "execution_count": null,
   "id": "03497054",
   "metadata": {},
   "outputs": [],
   "source": [
    "Complements=[milk, sparkling water, cucumber, chilli, syrup, coffee, bitters, cream, lemonade]\n",
    "\n",
    "Complements=[milk, sparkling water, cucumber, chilli, syrup, coffee, bitter, cream, lemonade]"
   ]
  },
  {
   "cell_type": "code",
   "execution_count": null,
   "id": "dd58f513",
   "metadata": {},
   "outputs": [],
   "source": [
    "Fruits=[lemon, banana, lime, citrus, watermelon, peach, pineapple, orange, cranberry, strawberry, blackberry, raspberry, \n",
    "blueberry, mango, papaya, apple, passion fruit, apricot, maracuya, cherry, kiwi, plum, grapes, fig, grapefruit, \n",
    "pomegranate, coconut, pumpkin]\n",
    "\n",
    "Fruits=[lemon, banana, lime, citrus, watermelon, peach, pineapple, orange, cranber, strawber, blackber, raspber, \n",
    "blueber, mango, papaya, apple, passion fruit, apricot, maracuya, cher, kiwi, plum, grape, fig, grapefruit, \n",
    "pomegranate, coconut, pumpkin]"
   ]
  },
  {
   "cell_type": "code",
   "execution_count": null,
   "id": "954bfdcc",
   "metadata": {},
   "outputs": [],
   "source": [
    "spirits=[sparkling wine, champagne, prosecco, rum, vodka, gin, vermouth, cognac, whisky, bourbon, tequila, cachaça,\n",
    "         liqueurs, mezcal]"
   ]
  },
  {
   "cell_type": "code",
   "execution_count": null,
   "id": "29771a8b",
   "metadata": {},
   "outputs": [],
   "source": []
  }
 ],
 "metadata": {
  "kernelspec": {
   "display_name": "Python 3 (ipykernel)",
   "language": "python",
   "name": "python3"
  },
  "language_info": {
   "codemirror_mode": {
    "name": "ipython",
    "version": 3
   },
   "file_extension": ".py",
   "mimetype": "text/x-python",
   "name": "python",
   "nbconvert_exporter": "python",
   "pygments_lexer": "ipython3",
   "version": "3.8.2"
  }
 },
 "nbformat": 4,
 "nbformat_minor": 5
}
