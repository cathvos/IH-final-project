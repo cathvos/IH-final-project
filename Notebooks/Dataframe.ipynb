{
 "cells": [
  {
   "cell_type": "code",
   "execution_count": 1,
   "id": "8ffdf302",
   "metadata": {},
   "outputs": [
    {
     "data": {
      "text/plain": [
       "'/Users/cathalijnvos/Documents/GitHub/IH-final-project/Notebooks'"
      ]
     },
     "execution_count": 1,
     "metadata": {},
     "output_type": "execute_result"
    }
   ],
   "source": [
    "pwd"
   ]
  },
  {
   "cell_type": "code",
   "execution_count": 2,
   "id": "38e3ccff",
   "metadata": {},
   "outputs": [],
   "source": [
    "import pandas as pd"
   ]
  },
  {
   "cell_type": "code",
   "execution_count": 3,
   "id": "f7fe13f2",
   "metadata": {},
   "outputs": [],
   "source": [
    "df1 = pd.read_csv ('/Users/cathalijnvos/Documents/GitHub/IH-final-project/Data/dataset_instagram-post-scraper_2022-06-01_12-20-13-648.csv')\n"
   ]
  },
  {
   "cell_type": "code",
   "execution_count": 4,
   "id": "de920b09",
   "metadata": {},
   "outputs": [],
   "source": [
    "df2 = pd.read_csv ('/Users/cathalijnvos/Documents/GitHub/IH-final-project/Data/dataset_instagram-post-scraper_2022-06-01_12-24-33-923 (1).csv')"
   ]
  },
  {
   "cell_type": "code",
   "execution_count": 5,
   "id": "30a8e6c1",
   "metadata": {},
   "outputs": [],
   "source": [
    "df3 = pd.read_csv ('/Users/cathalijnvos/Documents/GitHub/IH-final-project/Data/dataset_instagram-post-scraper_2022-06-01_12-31-16-806.csv')\n"
   ]
  },
  {
   "cell_type": "code",
   "execution_count": 6,
   "id": "1d056839",
   "metadata": {},
   "outputs": [],
   "source": [
    "df4 = pd.read_csv ('/Users/cathalijnvos/Documents/GitHub/IH-final-project/Data/dataset_instagram-post-scraper_2022-06-01_12-36-27-721.csv')\n"
   ]
  },
  {
   "cell_type": "code",
   "execution_count": 8,
   "id": "3e9949cf",
   "metadata": {},
   "outputs": [],
   "source": [
    "df1_new = df1[['timestamp','caption']].copy()"
   ]
  },
  {
   "cell_type": "code",
   "execution_count": 9,
   "id": "cfc13817",
   "metadata": {},
   "outputs": [],
   "source": [
    "df2_new = df2[['timestamp','caption']].copy()"
   ]
  },
  {
   "cell_type": "code",
   "execution_count": 10,
   "id": "af62b5cf",
   "metadata": {},
   "outputs": [],
   "source": [
    "df3_new = df3[['timestamp','caption']].copy()"
   ]
  },
  {
   "cell_type": "code",
   "execution_count": 11,
   "id": "cd865a9f",
   "metadata": {},
   "outputs": [],
   "source": [
    "df4_new = df4[['timestamp','caption']].copy()"
   ]
  },
  {
   "cell_type": "code",
   "execution_count": 12,
   "id": "06e9518b",
   "metadata": {},
   "outputs": [],
   "source": [
    "df=pd.concat([df1_new, df2_new, df3_new, df4_new], axis=0)"
   ]
  },
  {
   "cell_type": "code",
   "execution_count": 13,
   "id": "c9cb8fb8",
   "metadata": {},
   "outputs": [
    {
     "data": {
      "text/html": [
       "<div>\n",
       "<style scoped>\n",
       "    .dataframe tbody tr th:only-of-type {\n",
       "        vertical-align: middle;\n",
       "    }\n",
       "\n",
       "    .dataframe tbody tr th {\n",
       "        vertical-align: top;\n",
       "    }\n",
       "\n",
       "    .dataframe thead th {\n",
       "        text-align: right;\n",
       "    }\n",
       "</style>\n",
       "<table border=\"1\" class=\"dataframe\">\n",
       "  <thead>\n",
       "    <tr style=\"text-align: right;\">\n",
       "      <th></th>\n",
       "      <th>timestamp</th>\n",
       "      <th>caption</th>\n",
       "    </tr>\n",
       "  </thead>\n",
       "  <tbody>\n",
       "    <tr>\n",
       "      <th>0</th>\n",
       "      <td>2022-05-31T18:31:42.000Z</td>\n",
       "      <td>Should I make more smoothie recipes?\\n\\n1/2 ba...</td>\n",
       "    </tr>\n",
       "    <tr>\n",
       "      <th>1</th>\n",
       "      <td>2022-05-30T17:46:48.000Z</td>\n",
       "      <td>The weekend isn’t over, so enjoy it with some ...</td>\n",
       "    </tr>\n",
       "    <tr>\n",
       "      <th>2</th>\n",
       "      <td>2022-05-29T18:05:06.000Z</td>\n",
       "      <td>Let’s make the drink of the summer! Yes, it’s ...</td>\n",
       "    </tr>\n",
       "    <tr>\n",
       "      <th>3</th>\n",
       "      <td>2022-05-28T16:26:11.000Z</td>\n",
       "      <td>Another easy weekend cocktail, Peach Bourbon S...</td>\n",
       "    </tr>\n",
       "    <tr>\n",
       "      <th>4</th>\n",
       "      <td>2022-05-27T18:50:36.000Z</td>\n",
       "      <td>Have you had an Irish coffee before? Better qu...</td>\n",
       "    </tr>\n",
       "    <tr>\n",
       "      <th>...</th>\n",
       "      <td>...</td>\n",
       "      <td>...</td>\n",
       "    </tr>\n",
       "    <tr>\n",
       "      <th>21</th>\n",
       "      <td>2014-10-12T17:41:25.000Z</td>\n",
       "      <td>Blood &amp; Sand\\n\\nInto a shaker add:\\n1 Shot Whi...</td>\n",
       "    </tr>\n",
       "    <tr>\n",
       "      <th>22</th>\n",
       "      <td>2014-10-06T21:04:21.000Z</td>\n",
       "      <td>Army &amp; Navy\\n\\nInto a shaker add:\\n2 Shots of ...</td>\n",
       "    </tr>\n",
       "    <tr>\n",
       "      <th>23</th>\n",
       "      <td>2014-10-02T21:47:43.000Z</td>\n",
       "      <td>Into a Cocktail Shaker add:\\n2 Shots of Gin\\n1...</td>\n",
       "    </tr>\n",
       "    <tr>\n",
       "      <th>24</th>\n",
       "      <td>2014-10-01T19:33:04.000Z</td>\n",
       "      <td>Into a Cocktail Shaker add:\\n2 Shots of Gin\\n1...</td>\n",
       "    </tr>\n",
       "    <tr>\n",
       "      <th>25</th>\n",
       "      <td>2014-10-01T19:20:09.000Z</td>\n",
       "      <td>Join the club. #cocktailrecipes #cocktails #re...</td>\n",
       "    </tr>\n",
       "  </tbody>\n",
       "</table>\n",
       "<p>130 rows × 2 columns</p>\n",
       "</div>"
      ],
      "text/plain": [
       "                   timestamp  \\\n",
       "0   2022-05-31T18:31:42.000Z   \n",
       "1   2022-05-30T17:46:48.000Z   \n",
       "2   2022-05-29T18:05:06.000Z   \n",
       "3   2022-05-28T16:26:11.000Z   \n",
       "4   2022-05-27T18:50:36.000Z   \n",
       "..                       ...   \n",
       "21  2014-10-12T17:41:25.000Z   \n",
       "22  2014-10-06T21:04:21.000Z   \n",
       "23  2014-10-02T21:47:43.000Z   \n",
       "24  2014-10-01T19:33:04.000Z   \n",
       "25  2014-10-01T19:20:09.000Z   \n",
       "\n",
       "                                              caption  \n",
       "0   Should I make more smoothie recipes?\\n\\n1/2 ba...  \n",
       "1   The weekend isn’t over, so enjoy it with some ...  \n",
       "2   Let’s make the drink of the summer! Yes, it’s ...  \n",
       "3   Another easy weekend cocktail, Peach Bourbon S...  \n",
       "4   Have you had an Irish coffee before? Better qu...  \n",
       "..                                                ...  \n",
       "21  Blood & Sand\\n\\nInto a shaker add:\\n1 Shot Whi...  \n",
       "22  Army & Navy\\n\\nInto a shaker add:\\n2 Shots of ...  \n",
       "23  Into a Cocktail Shaker add:\\n2 Shots of Gin\\n1...  \n",
       "24  Into a Cocktail Shaker add:\\n2 Shots of Gin\\n1...  \n",
       "25  Join the club. #cocktailrecipes #cocktails #re...  \n",
       "\n",
       "[130 rows x 2 columns]"
      ]
     },
     "execution_count": 13,
     "metadata": {},
     "output_type": "execute_result"
    }
   ],
   "source": [
    "df"
   ]
  },
  {
   "cell_type": "code",
   "execution_count": 14,
   "id": "537ea91b",
   "metadata": {},
   "outputs": [],
   "source": [
    "df['Date'] = df['timestamp'].str[0:7]"
   ]
  },
  {
   "cell_type": "code",
   "execution_count": 15,
   "id": "32e623c2",
   "metadata": {},
   "outputs": [],
   "source": [
    "df['Ingredients'] = df['caption']"
   ]
  },
  {
   "cell_type": "code",
   "execution_count": 16,
   "id": "7691b508",
   "metadata": {},
   "outputs": [
    {
     "data": {
      "text/html": [
       "<div>\n",
       "<style scoped>\n",
       "    .dataframe tbody tr th:only-of-type {\n",
       "        vertical-align: middle;\n",
       "    }\n",
       "\n",
       "    .dataframe tbody tr th {\n",
       "        vertical-align: top;\n",
       "    }\n",
       "\n",
       "    .dataframe thead th {\n",
       "        text-align: right;\n",
       "    }\n",
       "</style>\n",
       "<table border=\"1\" class=\"dataframe\">\n",
       "  <thead>\n",
       "    <tr style=\"text-align: right;\">\n",
       "      <th></th>\n",
       "      <th>Date</th>\n",
       "      <th>Ingredients</th>\n",
       "    </tr>\n",
       "  </thead>\n",
       "  <tbody>\n",
       "    <tr>\n",
       "      <th>0</th>\n",
       "      <td>2022-05</td>\n",
       "      <td>Should I make more smoothie recipes?\\n\\n1/2 ba...</td>\n",
       "    </tr>\n",
       "    <tr>\n",
       "      <th>1</th>\n",
       "      <td>2022-05</td>\n",
       "      <td>The weekend isn’t over, so enjoy it with some ...</td>\n",
       "    </tr>\n",
       "    <tr>\n",
       "      <th>2</th>\n",
       "      <td>2022-05</td>\n",
       "      <td>Let’s make the drink of the summer! Yes, it’s ...</td>\n",
       "    </tr>\n",
       "    <tr>\n",
       "      <th>3</th>\n",
       "      <td>2022-05</td>\n",
       "      <td>Another easy weekend cocktail, Peach Bourbon S...</td>\n",
       "    </tr>\n",
       "    <tr>\n",
       "      <th>4</th>\n",
       "      <td>2022-05</td>\n",
       "      <td>Have you had an Irish coffee before? Better qu...</td>\n",
       "    </tr>\n",
       "    <tr>\n",
       "      <th>...</th>\n",
       "      <td>...</td>\n",
       "      <td>...</td>\n",
       "    </tr>\n",
       "    <tr>\n",
       "      <th>21</th>\n",
       "      <td>2014-10</td>\n",
       "      <td>Blood &amp; Sand\\n\\nInto a shaker add:\\n1 Shot Whi...</td>\n",
       "    </tr>\n",
       "    <tr>\n",
       "      <th>22</th>\n",
       "      <td>2014-10</td>\n",
       "      <td>Army &amp; Navy\\n\\nInto a shaker add:\\n2 Shots of ...</td>\n",
       "    </tr>\n",
       "    <tr>\n",
       "      <th>23</th>\n",
       "      <td>2014-10</td>\n",
       "      <td>Into a Cocktail Shaker add:\\n2 Shots of Gin\\n1...</td>\n",
       "    </tr>\n",
       "    <tr>\n",
       "      <th>24</th>\n",
       "      <td>2014-10</td>\n",
       "      <td>Into a Cocktail Shaker add:\\n2 Shots of Gin\\n1...</td>\n",
       "    </tr>\n",
       "    <tr>\n",
       "      <th>25</th>\n",
       "      <td>2014-10</td>\n",
       "      <td>Join the club. #cocktailrecipes #cocktails #re...</td>\n",
       "    </tr>\n",
       "  </tbody>\n",
       "</table>\n",
       "<p>130 rows × 2 columns</p>\n",
       "</div>"
      ],
      "text/plain": [
       "       Date                                        Ingredients\n",
       "0   2022-05  Should I make more smoothie recipes?\\n\\n1/2 ba...\n",
       "1   2022-05  The weekend isn’t over, so enjoy it with some ...\n",
       "2   2022-05  Let’s make the drink of the summer! Yes, it’s ...\n",
       "3   2022-05  Another easy weekend cocktail, Peach Bourbon S...\n",
       "4   2022-05  Have you had an Irish coffee before? Better qu...\n",
       "..      ...                                                ...\n",
       "21  2014-10  Blood & Sand\\n\\nInto a shaker add:\\n1 Shot Whi...\n",
       "22  2014-10  Army & Navy\\n\\nInto a shaker add:\\n2 Shots of ...\n",
       "23  2014-10  Into a Cocktail Shaker add:\\n2 Shots of Gin\\n1...\n",
       "24  2014-10  Into a Cocktail Shaker add:\\n2 Shots of Gin\\n1...\n",
       "25  2014-10  Join the club. #cocktailrecipes #cocktails #re...\n",
       "\n",
       "[130 rows x 2 columns]"
      ]
     },
     "execution_count": 16,
     "metadata": {},
     "output_type": "execute_result"
    }
   ],
   "source": [
    "df = df[['Date','Ingredients']].copy()\n",
    "df"
   ]
  },
  {
   "cell_type": "code",
   "execution_count": 17,
   "id": "e9a14ef4",
   "metadata": {},
   "outputs": [],
   "source": [
    "df5 = pd.read_csv ('/Users/cathalijnvos/Documents/GitHub/IH-final-project/Data/df_thedrinkblog.csv')"
   ]
  },
  {
   "cell_type": "code",
   "execution_count": 18,
   "id": "5012c4f1",
   "metadata": {},
   "outputs": [
    {
     "data": {
      "text/html": [
       "<div>\n",
       "<style scoped>\n",
       "    .dataframe tbody tr th:only-of-type {\n",
       "        vertical-align: middle;\n",
       "    }\n",
       "\n",
       "    .dataframe tbody tr th {\n",
       "        vertical-align: top;\n",
       "    }\n",
       "\n",
       "    .dataframe thead th {\n",
       "        text-align: right;\n",
       "    }\n",
       "</style>\n",
       "<table border=\"1\" class=\"dataframe\">\n",
       "  <thead>\n",
       "    <tr style=\"text-align: right;\">\n",
       "      <th></th>\n",
       "      <th>Date</th>\n",
       "      <th>Ingredients</th>\n",
       "      <th>Unnamed: 0</th>\n",
       "    </tr>\n",
       "  </thead>\n",
       "  <tbody>\n",
       "    <tr>\n",
       "      <th>0</th>\n",
       "      <td>2022-05</td>\n",
       "      <td>Should I make more smoothie recipes?\\n\\n1/2 ba...</td>\n",
       "      <td>NaN</td>\n",
       "    </tr>\n",
       "    <tr>\n",
       "      <th>1</th>\n",
       "      <td>2022-05</td>\n",
       "      <td>The weekend isn’t over, so enjoy it with some ...</td>\n",
       "      <td>NaN</td>\n",
       "    </tr>\n",
       "    <tr>\n",
       "      <th>2</th>\n",
       "      <td>2022-05</td>\n",
       "      <td>Let’s make the drink of the summer! Yes, it’s ...</td>\n",
       "      <td>NaN</td>\n",
       "    </tr>\n",
       "    <tr>\n",
       "      <th>3</th>\n",
       "      <td>2022-05</td>\n",
       "      <td>Another easy weekend cocktail, Peach Bourbon S...</td>\n",
       "      <td>NaN</td>\n",
       "    </tr>\n",
       "    <tr>\n",
       "      <th>4</th>\n",
       "      <td>2022-05</td>\n",
       "      <td>Have you had an Irish coffee before? Better qu...</td>\n",
       "      <td>NaN</td>\n",
       "    </tr>\n",
       "    <tr>\n",
       "      <th>...</th>\n",
       "      <td>...</td>\n",
       "      <td>...</td>\n",
       "      <td>...</td>\n",
       "    </tr>\n",
       "    <tr>\n",
       "      <th>135</th>\n",
       "      <td>2015-10</td>\n",
       "      <td>2½ oz. silver tequila,½ oz. Grand Marnier,1 oz...</td>\n",
       "      <td>135.0</td>\n",
       "    </tr>\n",
       "    <tr>\n",
       "      <th>136</th>\n",
       "      <td>2016-02</td>\n",
       "      <td>2 oz. whisky,⅔ oz. lemon juice,1 tsp. sugar (t...</td>\n",
       "      <td>136.0</td>\n",
       "    </tr>\n",
       "    <tr>\n",
       "      <th>137</th>\n",
       "      <td>2015-12</td>\n",
       "      <td>1 oz. vodka,1 oz. rum,½ oz. white crème de cac...</td>\n",
       "      <td>137.0</td>\n",
       "    </tr>\n",
       "    <tr>\n",
       "      <th>138</th>\n",
       "      <td>2015-12</td>\n",
       "      <td>2 oz. white crème de cacao,1 oz. almond liqueu...</td>\n",
       "      <td>138.0</td>\n",
       "    </tr>\n",
       "    <tr>\n",
       "      <th>139</th>\n",
       "      <td>2016-06</td>\n",
       "      <td>3 oz. pisco,1 oz. lime juice,1 oz. strawberry ...</td>\n",
       "      <td>139.0</td>\n",
       "    </tr>\n",
       "  </tbody>\n",
       "</table>\n",
       "<p>270 rows × 3 columns</p>\n",
       "</div>"
      ],
      "text/plain": [
       "        Date                                        Ingredients  Unnamed: 0\n",
       "0    2022-05  Should I make more smoothie recipes?\\n\\n1/2 ba...         NaN\n",
       "1    2022-05  The weekend isn’t over, so enjoy it with some ...         NaN\n",
       "2    2022-05  Let’s make the drink of the summer! Yes, it’s ...         NaN\n",
       "3    2022-05  Another easy weekend cocktail, Peach Bourbon S...         NaN\n",
       "4    2022-05  Have you had an Irish coffee before? Better qu...         NaN\n",
       "..       ...                                                ...         ...\n",
       "135  2015-10  2½ oz. silver tequila,½ oz. Grand Marnier,1 oz...       135.0\n",
       "136  2016-02  2 oz. whisky,⅔ oz. lemon juice,1 tsp. sugar (t...       136.0\n",
       "137  2015-12  1 oz. vodka,1 oz. rum,½ oz. white crème de cac...       137.0\n",
       "138  2015-12  2 oz. white crème de cacao,1 oz. almond liqueu...       138.0\n",
       "139  2016-06  3 oz. pisco,1 oz. lime juice,1 oz. strawberry ...       139.0\n",
       "\n",
       "[270 rows x 3 columns]"
      ]
     },
     "execution_count": 18,
     "metadata": {},
     "output_type": "execute_result"
    }
   ],
   "source": [
    "df=pd.concat([df, df5], axis=0)\n",
    "df"
   ]
  },
  {
   "cell_type": "code",
   "execution_count": null,
   "id": "d215eab6",
   "metadata": {},
   "outputs": [],
   "source": []
  },
  {
   "cell_type": "code",
   "execution_count": null,
   "id": "e48c2a80",
   "metadata": {},
   "outputs": [],
   "source": []
  },
  {
   "cell_type": "code",
   "execution_count": null,
   "id": "e2bf0b72",
   "metadata": {},
   "outputs": [],
   "source": []
  }
 ],
 "metadata": {
  "kernelspec": {
   "display_name": "Python 3 (ipykernel)",
   "language": "python",
   "name": "python3"
  },
  "language_info": {
   "codemirror_mode": {
    "name": "ipython",
    "version": 3
   },
   "file_extension": ".py",
   "mimetype": "text/x-python",
   "name": "python",
   "nbconvert_exporter": "python",
   "pygments_lexer": "ipython3",
   "version": "3.8.2"
  }
 },
 "nbformat": 4,
 "nbformat_minor": 5
}
