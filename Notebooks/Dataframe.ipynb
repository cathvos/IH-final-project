{
 "cells": [
  {
   "cell_type": "code",
   "execution_count": 1,
   "id": "20997d65",
   "metadata": {},
   "outputs": [
    {
     "data": {
      "text/plain": [
       "'/Users/cathalijnvos/Documents/GitHub/IH-final-project/Notebooks'"
      ]
     },
     "execution_count": 1,
     "metadata": {},
     "output_type": "execute_result"
    }
   ],
   "source": [
    "pwd"
   ]
  },
  {
   "cell_type": "code",
   "execution_count": 2,
   "id": "224f5afd",
   "metadata": {},
   "outputs": [],
   "source": [
    "import pandas as pd\n",
    "\n",
    "df1 = pd.read_csv ('/Users/cathalijnvos/Documents/GitHub/IH-final-project/Data/dataset_instagram-post-scraper_2022-06-01_12-20-13-648.csv')\n"
   ]
  },
  {
   "cell_type": "code",
   "execution_count": 3,
   "id": "91f40706",
   "metadata": {},
   "outputs": [],
   "source": [
    "import pandas as pd\n",
    "\n",
    "df2 = pd.read_csv ('/Users/cathalijnvos/Documents/GitHub/IH-final-project/Data/dataset_instagram-post-scraper_2022-06-01_12-24-33-923 (1).csv')"
   ]
  },
  {
   "cell_type": "code",
   "execution_count": 4,
   "id": "387b4dd8",
   "metadata": {},
   "outputs": [],
   "source": [
    "import pandas as pd\n",
    "\n",
    "df3 = pd.read_csv ('/Users/cathalijnvos/Documents/GitHub/IH-final-project/Data/dataset_instagram-post-scraper_2022-06-01_12-31-16-806.csv')\n"
   ]
  },
  {
   "cell_type": "code",
   "execution_count": 5,
   "id": "544da620",
   "metadata": {},
   "outputs": [],
   "source": [
    "import pandas as pd\n",
    "\n",
    "df4 = pd.read_csv ('/Users/cathalijnvos/Documents/GitHub/IH-final-project/Data/dataset_instagram-post-scraper_2022-06-01_12-36-27-721.csv')\n"
   ]
  },
  {
   "cell_type": "code",
   "execution_count": 6,
   "id": "29cc1789",
   "metadata": {},
   "outputs": [],
   "source": [
    "df1_new = df1[['caption','timestamp']].copy()"
   ]
  },
  {
   "cell_type": "code",
   "execution_count": 7,
   "id": "bb750cbb",
   "metadata": {},
   "outputs": [],
   "source": [
    "df2_new = df2[['caption','timestamp']].copy()"
   ]
  },
  {
   "cell_type": "code",
   "execution_count": 8,
   "id": "fea2e544",
   "metadata": {},
   "outputs": [],
   "source": [
    "df3_new = df3[['caption','timestamp']].copy()"
   ]
  },
  {
   "cell_type": "code",
   "execution_count": 9,
   "id": "0d699fff",
   "metadata": {},
   "outputs": [],
   "source": [
    "df4_new = df4[['caption','timestamp']].copy()"
   ]
  },
  {
   "cell_type": "code",
   "execution_count": 10,
   "id": "f81924c4",
   "metadata": {},
   "outputs": [],
   "source": [
    "df=pd.concat([df1_new, df2_new, df3_new, df4_new], axis=0)"
   ]
  },
  {
   "cell_type": "code",
   "execution_count": 11,
   "id": "16be8c7a",
   "metadata": {},
   "outputs": [
    {
     "data": {
      "text/html": [
       "<div>\n",
       "<style scoped>\n",
       "    .dataframe tbody tr th:only-of-type {\n",
       "        vertical-align: middle;\n",
       "    }\n",
       "\n",
       "    .dataframe tbody tr th {\n",
       "        vertical-align: top;\n",
       "    }\n",
       "\n",
       "    .dataframe thead th {\n",
       "        text-align: right;\n",
       "    }\n",
       "</style>\n",
       "<table border=\"1\" class=\"dataframe\">\n",
       "  <thead>\n",
       "    <tr style=\"text-align: right;\">\n",
       "      <th></th>\n",
       "      <th>caption</th>\n",
       "      <th>timestamp</th>\n",
       "    </tr>\n",
       "  </thead>\n",
       "  <tbody>\n",
       "    <tr>\n",
       "      <th>0</th>\n",
       "      <td>Should I make more smoothie recipes?\\n\\n1/2 ba...</td>\n",
       "      <td>2022-05-31T18:31:42.000Z</td>\n",
       "    </tr>\n",
       "    <tr>\n",
       "      <th>1</th>\n",
       "      <td>The weekend isn’t over, so enjoy it with some ...</td>\n",
       "      <td>2022-05-30T17:46:48.000Z</td>\n",
       "    </tr>\n",
       "    <tr>\n",
       "      <th>2</th>\n",
       "      <td>Let’s make the drink of the summer! Yes, it’s ...</td>\n",
       "      <td>2022-05-29T18:05:06.000Z</td>\n",
       "    </tr>\n",
       "    <tr>\n",
       "      <th>3</th>\n",
       "      <td>Another easy weekend cocktail, Peach Bourbon S...</td>\n",
       "      <td>2022-05-28T16:26:11.000Z</td>\n",
       "    </tr>\n",
       "    <tr>\n",
       "      <th>4</th>\n",
       "      <td>Have you had an Irish coffee before? Better qu...</td>\n",
       "      <td>2022-05-27T18:50:36.000Z</td>\n",
       "    </tr>\n",
       "    <tr>\n",
       "      <th>...</th>\n",
       "      <td>...</td>\n",
       "      <td>...</td>\n",
       "    </tr>\n",
       "    <tr>\n",
       "      <th>21</th>\n",
       "      <td>Blood &amp; Sand\\n\\nInto a shaker add:\\n1 Shot Whi...</td>\n",
       "      <td>2014-10-12T17:41:25.000Z</td>\n",
       "    </tr>\n",
       "    <tr>\n",
       "      <th>22</th>\n",
       "      <td>Army &amp; Navy\\n\\nInto a shaker add:\\n2 Shots of ...</td>\n",
       "      <td>2014-10-06T21:04:21.000Z</td>\n",
       "    </tr>\n",
       "    <tr>\n",
       "      <th>23</th>\n",
       "      <td>Into a Cocktail Shaker add:\\n2 Shots of Gin\\n1...</td>\n",
       "      <td>2014-10-02T21:47:43.000Z</td>\n",
       "    </tr>\n",
       "    <tr>\n",
       "      <th>24</th>\n",
       "      <td>Into a Cocktail Shaker add:\\n2 Shots of Gin\\n1...</td>\n",
       "      <td>2014-10-01T19:33:04.000Z</td>\n",
       "    </tr>\n",
       "    <tr>\n",
       "      <th>25</th>\n",
       "      <td>Join the club. #cocktailrecipes #cocktails #re...</td>\n",
       "      <td>2014-10-01T19:20:09.000Z</td>\n",
       "    </tr>\n",
       "  </tbody>\n",
       "</table>\n",
       "<p>130 rows × 2 columns</p>\n",
       "</div>"
      ],
      "text/plain": [
       "                                              caption  \\\n",
       "0   Should I make more smoothie recipes?\\n\\n1/2 ba...   \n",
       "1   The weekend isn’t over, so enjoy it with some ...   \n",
       "2   Let’s make the drink of the summer! Yes, it’s ...   \n",
       "3   Another easy weekend cocktail, Peach Bourbon S...   \n",
       "4   Have you had an Irish coffee before? Better qu...   \n",
       "..                                                ...   \n",
       "21  Blood & Sand\\n\\nInto a shaker add:\\n1 Shot Whi...   \n",
       "22  Army & Navy\\n\\nInto a shaker add:\\n2 Shots of ...   \n",
       "23  Into a Cocktail Shaker add:\\n2 Shots of Gin\\n1...   \n",
       "24  Into a Cocktail Shaker add:\\n2 Shots of Gin\\n1...   \n",
       "25  Join the club. #cocktailrecipes #cocktails #re...   \n",
       "\n",
       "                   timestamp  \n",
       "0   2022-05-31T18:31:42.000Z  \n",
       "1   2022-05-30T17:46:48.000Z  \n",
       "2   2022-05-29T18:05:06.000Z  \n",
       "3   2022-05-28T16:26:11.000Z  \n",
       "4   2022-05-27T18:50:36.000Z  \n",
       "..                       ...  \n",
       "21  2014-10-12T17:41:25.000Z  \n",
       "22  2014-10-06T21:04:21.000Z  \n",
       "23  2014-10-02T21:47:43.000Z  \n",
       "24  2014-10-01T19:33:04.000Z  \n",
       "25  2014-10-01T19:20:09.000Z  \n",
       "\n",
       "[130 rows x 2 columns]"
      ]
     },
     "execution_count": 11,
     "metadata": {},
     "output_type": "execute_result"
    }
   ],
   "source": [
    "df"
   ]
  },
  {
   "cell_type": "code",
   "execution_count": 12,
   "id": "49521000",
   "metadata": {},
   "outputs": [],
   "source": [
    "df['timestamp'] = df['timestamp'].str[0:7]"
   ]
  },
  {
   "cell_type": "code",
   "execution_count": 13,
   "id": "9c6b5295",
   "metadata": {},
   "outputs": [
    {
     "data": {
      "text/html": [
       "<div>\n",
       "<style scoped>\n",
       "    .dataframe tbody tr th:only-of-type {\n",
       "        vertical-align: middle;\n",
       "    }\n",
       "\n",
       "    .dataframe tbody tr th {\n",
       "        vertical-align: top;\n",
       "    }\n",
       "\n",
       "    .dataframe thead th {\n",
       "        text-align: right;\n",
       "    }\n",
       "</style>\n",
       "<table border=\"1\" class=\"dataframe\">\n",
       "  <thead>\n",
       "    <tr style=\"text-align: right;\">\n",
       "      <th></th>\n",
       "      <th>caption</th>\n",
       "      <th>timestamp</th>\n",
       "    </tr>\n",
       "  </thead>\n",
       "  <tbody>\n",
       "    <tr>\n",
       "      <th>0</th>\n",
       "      <td>Should I make more smoothie recipes?\\n\\n1/2 ba...</td>\n",
       "      <td>2022-05</td>\n",
       "    </tr>\n",
       "    <tr>\n",
       "      <th>1</th>\n",
       "      <td>The weekend isn’t over, so enjoy it with some ...</td>\n",
       "      <td>2022-05</td>\n",
       "    </tr>\n",
       "    <tr>\n",
       "      <th>2</th>\n",
       "      <td>Let’s make the drink of the summer! Yes, it’s ...</td>\n",
       "      <td>2022-05</td>\n",
       "    </tr>\n",
       "    <tr>\n",
       "      <th>3</th>\n",
       "      <td>Another easy weekend cocktail, Peach Bourbon S...</td>\n",
       "      <td>2022-05</td>\n",
       "    </tr>\n",
       "    <tr>\n",
       "      <th>4</th>\n",
       "      <td>Have you had an Irish coffee before? Better qu...</td>\n",
       "      <td>2022-05</td>\n",
       "    </tr>\n",
       "    <tr>\n",
       "      <th>...</th>\n",
       "      <td>...</td>\n",
       "      <td>...</td>\n",
       "    </tr>\n",
       "    <tr>\n",
       "      <th>21</th>\n",
       "      <td>Blood &amp; Sand\\n\\nInto a shaker add:\\n1 Shot Whi...</td>\n",
       "      <td>2014-10</td>\n",
       "    </tr>\n",
       "    <tr>\n",
       "      <th>22</th>\n",
       "      <td>Army &amp; Navy\\n\\nInto a shaker add:\\n2 Shots of ...</td>\n",
       "      <td>2014-10</td>\n",
       "    </tr>\n",
       "    <tr>\n",
       "      <th>23</th>\n",
       "      <td>Into a Cocktail Shaker add:\\n2 Shots of Gin\\n1...</td>\n",
       "      <td>2014-10</td>\n",
       "    </tr>\n",
       "    <tr>\n",
       "      <th>24</th>\n",
       "      <td>Into a Cocktail Shaker add:\\n2 Shots of Gin\\n1...</td>\n",
       "      <td>2014-10</td>\n",
       "    </tr>\n",
       "    <tr>\n",
       "      <th>25</th>\n",
       "      <td>Join the club. #cocktailrecipes #cocktails #re...</td>\n",
       "      <td>2014-10</td>\n",
       "    </tr>\n",
       "  </tbody>\n",
       "</table>\n",
       "<p>130 rows × 2 columns</p>\n",
       "</div>"
      ],
      "text/plain": [
       "                                              caption timestamp\n",
       "0   Should I make more smoothie recipes?\\n\\n1/2 ba...   2022-05\n",
       "1   The weekend isn’t over, so enjoy it with some ...   2022-05\n",
       "2   Let’s make the drink of the summer! Yes, it’s ...   2022-05\n",
       "3   Another easy weekend cocktail, Peach Bourbon S...   2022-05\n",
       "4   Have you had an Irish coffee before? Better qu...   2022-05\n",
       "..                                                ...       ...\n",
       "21  Blood & Sand\\n\\nInto a shaker add:\\n1 Shot Whi...   2014-10\n",
       "22  Army & Navy\\n\\nInto a shaker add:\\n2 Shots of ...   2014-10\n",
       "23  Into a Cocktail Shaker add:\\n2 Shots of Gin\\n1...   2014-10\n",
       "24  Into a Cocktail Shaker add:\\n2 Shots of Gin\\n1...   2014-10\n",
       "25  Join the club. #cocktailrecipes #cocktails #re...   2014-10\n",
       "\n",
       "[130 rows x 2 columns]"
      ]
     },
     "execution_count": 13,
     "metadata": {},
     "output_type": "execute_result"
    }
   ],
   "source": [
    "df"
   ]
  },
  {
   "cell_type": "code",
   "execution_count": null,
   "id": "478ccebf",
   "metadata": {},
   "outputs": [],
   "source": []
  }
 ],
 "metadata": {
  "kernelspec": {
   "display_name": "Python 3 (ipykernel)",
   "language": "python",
   "name": "python3"
  },
  "language_info": {
   "codemirror_mode": {
    "name": "ipython",
    "version": 3
   },
   "file_extension": ".py",
   "mimetype": "text/x-python",
   "name": "python",
   "nbconvert_exporter": "python",
   "pygments_lexer": "ipython3",
   "version": "3.8.2"
  }
 },
 "nbformat": 4,
 "nbformat_minor": 5
}
