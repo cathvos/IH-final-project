{
 "cells": [
  {
   "cell_type": "code",
   "execution_count": 1,
   "id": "8ffdf302",
   "metadata": {},
   "outputs": [
    {
     "data": {
      "text/plain": [
       "'/Users/cathalijnvos/Documents/GitHub/IH-final-project/Notebooks'"
      ]
     },
     "execution_count": 1,
     "metadata": {},
     "output_type": "execute_result"
    }
   ],
   "source": [
    "pwd"
   ]
  },
  {
   "cell_type": "code",
   "execution_count": 2,
   "id": "38e3ccff",
   "metadata": {},
   "outputs": [],
   "source": [
    "import pandas as pd"
   ]
  },
  {
   "cell_type": "code",
   "execution_count": 3,
   "id": "f7fe13f2",
   "metadata": {},
   "outputs": [],
   "source": [
    "df1 = pd.read_csv ('/Users/cathalijnvos/Documents/GitHub/IH-final-project/Data/dataset_instagram-post-scraper_2022-06-01_12-20-13-648.csv')\n"
   ]
  },
  {
   "cell_type": "code",
   "execution_count": 4,
   "id": "de920b09",
   "metadata": {},
   "outputs": [],
   "source": [
    "df2 = pd.read_csv ('/Users/cathalijnvos/Documents/GitHub/IH-final-project/Data/dataset_instagram-post-scraper_2022-06-01_12-24-33-923 (1).csv')"
   ]
  },
  {
   "cell_type": "code",
   "execution_count": 5,
   "id": "30a8e6c1",
   "metadata": {},
   "outputs": [],
   "source": [
    "df3 = pd.read_csv ('/Users/cathalijnvos/Documents/GitHub/IH-final-project/Data/dataset_instagram-post-scraper_2022-06-01_12-31-16-806.csv')\n"
   ]
  },
  {
   "cell_type": "code",
   "execution_count": 6,
   "id": "1d056839",
   "metadata": {},
   "outputs": [],
   "source": [
    "df4 = pd.read_csv ('/Users/cathalijnvos/Documents/GitHub/IH-final-project/Data/dataset_instagram-post-scraper_2022-06-01_12-36-27-721.csv')\n"
   ]
  },
  {
   "cell_type": "code",
   "execution_count": 7,
   "id": "3e9949cf",
   "metadata": {},
   "outputs": [],
   "source": [
    "df1_new = df1[['timestamp','caption']].copy()"
   ]
  },
  {
   "cell_type": "code",
   "execution_count": 8,
   "id": "cfc13817",
   "metadata": {},
   "outputs": [],
   "source": [
    "df2_new = df2[['timestamp','caption']].copy()"
   ]
  },
  {
   "cell_type": "code",
   "execution_count": 9,
   "id": "af62b5cf",
   "metadata": {},
   "outputs": [],
   "source": [
    "df3_new = df3[['timestamp','caption']].copy()"
   ]
  },
  {
   "cell_type": "code",
   "execution_count": 10,
   "id": "cd865a9f",
   "metadata": {},
   "outputs": [],
   "source": [
    "df4_new = df4[['timestamp','caption']].copy()"
   ]
  },
  {
   "cell_type": "code",
   "execution_count": 11,
   "id": "06e9518b",
   "metadata": {},
   "outputs": [],
   "source": [
    "df=pd.concat([df1_new, df2_new, df3_new, df4_new], axis=0)"
   ]
  },
  {
   "cell_type": "code",
   "execution_count": 12,
   "id": "c9cb8fb8",
   "metadata": {},
   "outputs": [
    {
     "data": {
      "text/html": [
       "<div>\n",
       "<style scoped>\n",
       "    .dataframe tbody tr th:only-of-type {\n",
       "        vertical-align: middle;\n",
       "    }\n",
       "\n",
       "    .dataframe tbody tr th {\n",
       "        vertical-align: top;\n",
       "    }\n",
       "\n",
       "    .dataframe thead th {\n",
       "        text-align: right;\n",
       "    }\n",
       "</style>\n",
       "<table border=\"1\" class=\"dataframe\">\n",
       "  <thead>\n",
       "    <tr style=\"text-align: right;\">\n",
       "      <th></th>\n",
       "      <th>timestamp</th>\n",
       "      <th>caption</th>\n",
       "    </tr>\n",
       "  </thead>\n",
       "  <tbody>\n",
       "    <tr>\n",
       "      <th>0</th>\n",
       "      <td>2022-05-31T18:31:42.000Z</td>\n",
       "      <td>Should I make more smoothie recipes?\\n\\n1/2 ba...</td>\n",
       "    </tr>\n",
       "    <tr>\n",
       "      <th>1</th>\n",
       "      <td>2022-05-30T17:46:48.000Z</td>\n",
       "      <td>The weekend isn’t over, so enjoy it with some ...</td>\n",
       "    </tr>\n",
       "    <tr>\n",
       "      <th>2</th>\n",
       "      <td>2022-05-29T18:05:06.000Z</td>\n",
       "      <td>Let’s make the drink of the summer! Yes, it’s ...</td>\n",
       "    </tr>\n",
       "    <tr>\n",
       "      <th>3</th>\n",
       "      <td>2022-05-28T16:26:11.000Z</td>\n",
       "      <td>Another easy weekend cocktail, Peach Bourbon S...</td>\n",
       "    </tr>\n",
       "    <tr>\n",
       "      <th>4</th>\n",
       "      <td>2022-05-27T18:50:36.000Z</td>\n",
       "      <td>Have you had an Irish coffee before? Better qu...</td>\n",
       "    </tr>\n",
       "    <tr>\n",
       "      <th>...</th>\n",
       "      <td>...</td>\n",
       "      <td>...</td>\n",
       "    </tr>\n",
       "    <tr>\n",
       "      <th>21</th>\n",
       "      <td>2014-10-12T17:41:25.000Z</td>\n",
       "      <td>Blood &amp; Sand\\n\\nInto a shaker add:\\n1 Shot Whi...</td>\n",
       "    </tr>\n",
       "    <tr>\n",
       "      <th>22</th>\n",
       "      <td>2014-10-06T21:04:21.000Z</td>\n",
       "      <td>Army &amp; Navy\\n\\nInto a shaker add:\\n2 Shots of ...</td>\n",
       "    </tr>\n",
       "    <tr>\n",
       "      <th>23</th>\n",
       "      <td>2014-10-02T21:47:43.000Z</td>\n",
       "      <td>Into a Cocktail Shaker add:\\n2 Shots of Gin\\n1...</td>\n",
       "    </tr>\n",
       "    <tr>\n",
       "      <th>24</th>\n",
       "      <td>2014-10-01T19:33:04.000Z</td>\n",
       "      <td>Into a Cocktail Shaker add:\\n2 Shots of Gin\\n1...</td>\n",
       "    </tr>\n",
       "    <tr>\n",
       "      <th>25</th>\n",
       "      <td>2014-10-01T19:20:09.000Z</td>\n",
       "      <td>Join the club. #cocktailrecipes #cocktails #re...</td>\n",
       "    </tr>\n",
       "  </tbody>\n",
       "</table>\n",
       "<p>130 rows × 2 columns</p>\n",
       "</div>"
      ],
      "text/plain": [
       "                   timestamp  \\\n",
       "0   2022-05-31T18:31:42.000Z   \n",
       "1   2022-05-30T17:46:48.000Z   \n",
       "2   2022-05-29T18:05:06.000Z   \n",
       "3   2022-05-28T16:26:11.000Z   \n",
       "4   2022-05-27T18:50:36.000Z   \n",
       "..                       ...   \n",
       "21  2014-10-12T17:41:25.000Z   \n",
       "22  2014-10-06T21:04:21.000Z   \n",
       "23  2014-10-02T21:47:43.000Z   \n",
       "24  2014-10-01T19:33:04.000Z   \n",
       "25  2014-10-01T19:20:09.000Z   \n",
       "\n",
       "                                              caption  \n",
       "0   Should I make more smoothie recipes?\\n\\n1/2 ba...  \n",
       "1   The weekend isn’t over, so enjoy it with some ...  \n",
       "2   Let’s make the drink of the summer! Yes, it’s ...  \n",
       "3   Another easy weekend cocktail, Peach Bourbon S...  \n",
       "4   Have you had an Irish coffee before? Better qu...  \n",
       "..                                                ...  \n",
       "21  Blood & Sand\\n\\nInto a shaker add:\\n1 Shot Whi...  \n",
       "22  Army & Navy\\n\\nInto a shaker add:\\n2 Shots of ...  \n",
       "23  Into a Cocktail Shaker add:\\n2 Shots of Gin\\n1...  \n",
       "24  Into a Cocktail Shaker add:\\n2 Shots of Gin\\n1...  \n",
       "25  Join the club. #cocktailrecipes #cocktails #re...  \n",
       "\n",
       "[130 rows x 2 columns]"
      ]
     },
     "execution_count": 12,
     "metadata": {},
     "output_type": "execute_result"
    }
   ],
   "source": [
    "df"
   ]
  },
  {
   "cell_type": "code",
   "execution_count": 13,
   "id": "537ea91b",
   "metadata": {},
   "outputs": [],
   "source": [
    "df['Date'] = df['timestamp'].str[0:7]"
   ]
  },
  {
   "cell_type": "code",
   "execution_count": 14,
   "id": "f0b4147c",
   "metadata": {},
   "outputs": [],
   "source": [
    "df['Ingredients'] = df['caption']"
   ]
  },
  {
   "cell_type": "code",
   "execution_count": 15,
   "id": "7691b508",
   "metadata": {},
   "outputs": [
    {
     "data": {
      "text/html": [
       "<div>\n",
       "<style scoped>\n",
       "    .dataframe tbody tr th:only-of-type {\n",
       "        vertical-align: middle;\n",
       "    }\n",
       "\n",
       "    .dataframe tbody tr th {\n",
       "        vertical-align: top;\n",
       "    }\n",
       "\n",
       "    .dataframe thead th {\n",
       "        text-align: right;\n",
       "    }\n",
       "</style>\n",
       "<table border=\"1\" class=\"dataframe\">\n",
       "  <thead>\n",
       "    <tr style=\"text-align: right;\">\n",
       "      <th></th>\n",
       "      <th>Date</th>\n",
       "      <th>Ingredients</th>\n",
       "    </tr>\n",
       "  </thead>\n",
       "  <tbody>\n",
       "    <tr>\n",
       "      <th>0</th>\n",
       "      <td>2022-05</td>\n",
       "      <td>Should I make more smoothie recipes?\\n\\n1/2 ba...</td>\n",
       "    </tr>\n",
       "    <tr>\n",
       "      <th>1</th>\n",
       "      <td>2022-05</td>\n",
       "      <td>The weekend isn’t over, so enjoy it with some ...</td>\n",
       "    </tr>\n",
       "    <tr>\n",
       "      <th>2</th>\n",
       "      <td>2022-05</td>\n",
       "      <td>Let’s make the drink of the summer! Yes, it’s ...</td>\n",
       "    </tr>\n",
       "    <tr>\n",
       "      <th>3</th>\n",
       "      <td>2022-05</td>\n",
       "      <td>Another easy weekend cocktail, Peach Bourbon S...</td>\n",
       "    </tr>\n",
       "    <tr>\n",
       "      <th>4</th>\n",
       "      <td>2022-05</td>\n",
       "      <td>Have you had an Irish coffee before? Better qu...</td>\n",
       "    </tr>\n",
       "    <tr>\n",
       "      <th>...</th>\n",
       "      <td>...</td>\n",
       "      <td>...</td>\n",
       "    </tr>\n",
       "    <tr>\n",
       "      <th>21</th>\n",
       "      <td>2014-10</td>\n",
       "      <td>Blood &amp; Sand\\n\\nInto a shaker add:\\n1 Shot Whi...</td>\n",
       "    </tr>\n",
       "    <tr>\n",
       "      <th>22</th>\n",
       "      <td>2014-10</td>\n",
       "      <td>Army &amp; Navy\\n\\nInto a shaker add:\\n2 Shots of ...</td>\n",
       "    </tr>\n",
       "    <tr>\n",
       "      <th>23</th>\n",
       "      <td>2014-10</td>\n",
       "      <td>Into a Cocktail Shaker add:\\n2 Shots of Gin\\n1...</td>\n",
       "    </tr>\n",
       "    <tr>\n",
       "      <th>24</th>\n",
       "      <td>2014-10</td>\n",
       "      <td>Into a Cocktail Shaker add:\\n2 Shots of Gin\\n1...</td>\n",
       "    </tr>\n",
       "    <tr>\n",
       "      <th>25</th>\n",
       "      <td>2014-10</td>\n",
       "      <td>Join the club. #cocktailrecipes #cocktails #re...</td>\n",
       "    </tr>\n",
       "  </tbody>\n",
       "</table>\n",
       "<p>130 rows × 2 columns</p>\n",
       "</div>"
      ],
      "text/plain": [
       "       Date                                        Ingredients\n",
       "0   2022-05  Should I make more smoothie recipes?\\n\\n1/2 ba...\n",
       "1   2022-05  The weekend isn’t over, so enjoy it with some ...\n",
       "2   2022-05  Let’s make the drink of the summer! Yes, it’s ...\n",
       "3   2022-05  Another easy weekend cocktail, Peach Bourbon S...\n",
       "4   2022-05  Have you had an Irish coffee before? Better qu...\n",
       "..      ...                                                ...\n",
       "21  2014-10  Blood & Sand\\n\\nInto a shaker add:\\n1 Shot Whi...\n",
       "22  2014-10  Army & Navy\\n\\nInto a shaker add:\\n2 Shots of ...\n",
       "23  2014-10  Into a Cocktail Shaker add:\\n2 Shots of Gin\\n1...\n",
       "24  2014-10  Into a Cocktail Shaker add:\\n2 Shots of Gin\\n1...\n",
       "25  2014-10  Join the club. #cocktailrecipes #cocktails #re...\n",
       "\n",
       "[130 rows x 2 columns]"
      ]
     },
     "execution_count": 15,
     "metadata": {},
     "output_type": "execute_result"
    }
   ],
   "source": [
    "df = df[['Date','Ingredients']].copy()\n",
    "df"
   ]
  },
  {
   "cell_type": "code",
   "execution_count": 16,
   "id": "e9a14ef4",
   "metadata": {},
   "outputs": [],
   "source": [
    "df5 = pd.read_csv ('/Users/cathalijnvos/Documents/GitHub/IH-final-project/Data/df_thedrinkblog.csv')"
   ]
  },
  {
   "cell_type": "code",
   "execution_count": 17,
   "id": "29900736",
   "metadata": {},
   "outputs": [],
   "source": [
    "df6 = pd.read_csv ('/Users/cathalijnvos/Documents/GitHub/IH-final-project/Data/liquorcom.csv')"
   ]
  },
  {
   "cell_type": "code",
   "execution_count": 18,
   "id": "49db1065",
   "metadata": {},
   "outputs": [],
   "source": [
    "df7 = pd.read_csv ('/Users/cathalijnvos/Documents/GitHub/IH-final-project/Data/keetscocktails.csv')"
   ]
  },
  {
   "cell_type": "code",
   "execution_count": 19,
   "id": "2c888bb7",
   "metadata": {},
   "outputs": [],
   "source": [
    "df=pd.concat([df, df5, df6, df7], axis=0)"
   ]
  },
  {
   "cell_type": "code",
   "execution_count": 20,
   "id": "fd12f1cd",
   "metadata": {},
   "outputs": [],
   "source": [
    "df.drop(df.filter(regex=\"Unname\"),axis=1, inplace=True)"
   ]
  },
  {
   "cell_type": "code",
   "execution_count": 21,
   "id": "c764eeb4",
   "metadata": {},
   "outputs": [
    {
     "data": {
      "text/html": [
       "<div>\n",
       "<style scoped>\n",
       "    .dataframe tbody tr th:only-of-type {\n",
       "        vertical-align: middle;\n",
       "    }\n",
       "\n",
       "    .dataframe tbody tr th {\n",
       "        vertical-align: top;\n",
       "    }\n",
       "\n",
       "    .dataframe thead th {\n",
       "        text-align: right;\n",
       "    }\n",
       "</style>\n",
       "<table border=\"1\" class=\"dataframe\">\n",
       "  <thead>\n",
       "    <tr style=\"text-align: right;\">\n",
       "      <th></th>\n",
       "      <th>Date</th>\n",
       "      <th>Ingredients</th>\n",
       "    </tr>\n",
       "  </thead>\n",
       "  <tbody>\n",
       "    <tr>\n",
       "      <th>0</th>\n",
       "      <td>2022-05</td>\n",
       "      <td>Should I make more smoothie recipes?\\n\\n1/2 ba...</td>\n",
       "    </tr>\n",
       "    <tr>\n",
       "      <th>1</th>\n",
       "      <td>2022-05</td>\n",
       "      <td>The weekend isn’t over, so enjoy it with some ...</td>\n",
       "    </tr>\n",
       "    <tr>\n",
       "      <th>2</th>\n",
       "      <td>2022-05</td>\n",
       "      <td>Let’s make the drink of the summer! Yes, it’s ...</td>\n",
       "    </tr>\n",
       "    <tr>\n",
       "      <th>3</th>\n",
       "      <td>2022-05</td>\n",
       "      <td>Another easy weekend cocktail, Peach Bourbon S...</td>\n",
       "    </tr>\n",
       "    <tr>\n",
       "      <th>4</th>\n",
       "      <td>2022-05</td>\n",
       "      <td>Have you had an Irish coffee before? Better qu...</td>\n",
       "    </tr>\n",
       "    <tr>\n",
       "      <th>...</th>\n",
       "      <td>...</td>\n",
       "      <td>...</td>\n",
       "    </tr>\n",
       "    <tr>\n",
       "      <th>316</th>\n",
       "      <td>2021-10</td>\n",
       "      <td>Despite its name,SATAN’S WHISKERSis anything b...</td>\n",
       "    </tr>\n",
       "    <tr>\n",
       "      <th>317</th>\n",
       "      <td>2020-10</td>\n",
       "      <td>TheSCOFFLAWcocktail was created in 1924 Paris ...</td>\n",
       "    </tr>\n",
       "    <tr>\n",
       "      <th>318</th>\n",
       "      <td>2022-03</td>\n",
       "      <td>TheSTILETTO MANHATTANadds a small portion of A...</td>\n",
       "    </tr>\n",
       "    <tr>\n",
       "      <th>319</th>\n",
       "      <td>2022-03</td>\n",
       "      <td>The Mexican version of a martini is theTEQUINI...</td>\n",
       "    </tr>\n",
       "    <tr>\n",
       "      <th>320</th>\n",
       "      <td>2022-05</td>\n",
       "      <td>The peak season for ruby-red grapefruit (Novem...</td>\n",
       "    </tr>\n",
       "  </tbody>\n",
       "</table>\n",
       "<p>612 rows × 2 columns</p>\n",
       "</div>"
      ],
      "text/plain": [
       "        Date                                        Ingredients\n",
       "0    2022-05  Should I make more smoothie recipes?\\n\\n1/2 ba...\n",
       "1    2022-05  The weekend isn’t over, so enjoy it with some ...\n",
       "2    2022-05  Let’s make the drink of the summer! Yes, it’s ...\n",
       "3    2022-05  Another easy weekend cocktail, Peach Bourbon S...\n",
       "4    2022-05  Have you had an Irish coffee before? Better qu...\n",
       "..       ...                                                ...\n",
       "316  2021-10  Despite its name,SATAN’S WHISKERSis anything b...\n",
       "317  2020-10  TheSCOFFLAWcocktail was created in 1924 Paris ...\n",
       "318  2022-03  TheSTILETTO MANHATTANadds a small portion of A...\n",
       "319  2022-03  The Mexican version of a martini is theTEQUINI...\n",
       "320  2022-05  The peak season for ruby-red grapefruit (Novem...\n",
       "\n",
       "[612 rows x 2 columns]"
      ]
     },
     "execution_count": 21,
     "metadata": {},
     "output_type": "execute_result"
    }
   ],
   "source": [
    "df"
   ]
  },
  {
   "cell_type": "code",
   "execution_count": 22,
   "id": "8245357d",
   "metadata": {},
   "outputs": [],
   "source": [
    "df_kaggle = pd.read_csv ('/Users/cathalijnvos/Documents/GitHub/IH-final-project/Data/all_drinks.csv')\n"
   ]
  },
  {
   "cell_type": "code",
   "execution_count": 23,
   "id": "f06d8cf2",
   "metadata": {},
   "outputs": [],
   "source": [
    "df_kaggle.drop(df_kaggle.filter(regex=\"Unname\"),axis=1, inplace=True)"
   ]
  },
  {
   "cell_type": "code",
   "execution_count": 24,
   "id": "d2bd8b98",
   "metadata": {},
   "outputs": [],
   "source": [
    "df_kaggle.drop(['strDrink', 'idDrink', 'strAlcoholic', 'strCategory', 'strDrinkThumb', 'strGlass',\n",
    "        'strGlass', 'strIBA', 'strIngredient10', 'strIngredient12', 'strIngredient13', 'strIngredient14', \n",
    "         'strIngredient15', 'strInstructions', 'strMeasure1', 'strMeasure10', 'strMeasure11', 'strMeasure12',\n",
    "         'strMeasure13','strMeasure14','strMeasure15','strMeasure2','strMeasure3','strMeasure4','strMeasure5','strMeasure6',\n",
    "        'strMeasure7','strMeasure8','strMeasure9','strVideo'],axis = 1, inplace = True) "
   ]
  },
  {
   "cell_type": "code",
   "execution_count": 25,
   "id": "089fe6e3",
   "metadata": {},
   "outputs": [
    {
     "name": "stdout",
     "output_type": "stream",
     "text": [
      "<class 'pandas.core.frame.DataFrame'>\n",
      "RangeIndex: 546 entries, 0 to 545\n",
      "Data columns (total 11 columns):\n",
      " #   Column           Non-Null Count  Dtype \n",
      "---  ------           --------------  ----- \n",
      " 0   dateModified     545 non-null    object\n",
      " 1   strIngredient1   546 non-null    object\n",
      " 2   strIngredient11  3 non-null      object\n",
      " 3   strIngredient2   546 non-null    object\n",
      " 4   strIngredient3   461 non-null    object\n",
      " 5   strIngredient4   294 non-null    object\n",
      " 6   strIngredient5   166 non-null    object\n",
      " 7   strIngredient6   78 non-null     object\n",
      " 8   strIngredient7   25 non-null     object\n",
      " 9   strIngredient8   15 non-null     object\n",
      " 10  strIngredient9   6 non-null      object\n",
      "dtypes: object(11)\n",
      "memory usage: 47.0+ KB\n"
     ]
    }
   ],
   "source": [
    "df_kaggle.info()"
   ]
  },
  {
   "cell_type": "code",
   "execution_count": 26,
   "id": "100317df",
   "metadata": {},
   "outputs": [],
   "source": [
    "df_kaggle.fillna(' ', inplace=True)"
   ]
  },
  {
   "cell_type": "code",
   "execution_count": 27,
   "id": "6c1c4e5d",
   "metadata": {},
   "outputs": [],
   "source": [
    "df_kaggle['Ingredients']=df_kaggle['strIngredient1'] + ', ' + df_kaggle['strIngredient2']+ ', ' + df_kaggle['strIngredient11'] + ', ' + df_kaggle['strIngredient3'] + ', ' + df_kaggle['strIngredient4'] + ', ' + df_kaggle['strIngredient5'] + ', ' + df_kaggle['strIngredient6'] + ', ' + df_kaggle['strIngredient7'] + ', ' + df_kaggle['strIngredient9'] + ', ' + df_kaggle['strIngredient9']"
   ]
  },
  {
   "cell_type": "code",
   "execution_count": 28,
   "id": "f4251481",
   "metadata": {},
   "outputs": [],
   "source": [
    "df_kaggle.drop(['strIngredient1', 'strIngredient11', 'strIngredient2', 'strIngredient3', 'strIngredient4',\n",
    "        'strIngredient5', 'strIngredient6', 'strIngredient7', 'strIngredient8', 'strIngredient9'],axis = 1, inplace = True) "
   ]
  },
  {
   "cell_type": "code",
   "execution_count": 29,
   "id": "70b942be",
   "metadata": {},
   "outputs": [
    {
     "data": {
      "text/html": [
       "<div>\n",
       "<style scoped>\n",
       "    .dataframe tbody tr th:only-of-type {\n",
       "        vertical-align: middle;\n",
       "    }\n",
       "\n",
       "    .dataframe tbody tr th {\n",
       "        vertical-align: top;\n",
       "    }\n",
       "\n",
       "    .dataframe thead th {\n",
       "        text-align: right;\n",
       "    }\n",
       "</style>\n",
       "<table border=\"1\" class=\"dataframe\">\n",
       "  <thead>\n",
       "    <tr style=\"text-align: right;\">\n",
       "      <th></th>\n",
       "      <th>dateModified</th>\n",
       "      <th>Ingredients</th>\n",
       "    </tr>\n",
       "  </thead>\n",
       "  <tbody>\n",
       "    <tr>\n",
       "      <th>0</th>\n",
       "      <td>2016-07-18 22:49:04</td>\n",
       "      <td>Creme de Cacao, Vodka,  ,  ,  ,  ,  ,  ,  ,</td>\n",
       "    </tr>\n",
       "    <tr>\n",
       "      <th>1</th>\n",
       "      <td>2016-07-18 22:27:04</td>\n",
       "      <td>Absolut Kurant, Grand Marnier,  , Chambord ras...</td>\n",
       "    </tr>\n",
       "    <tr>\n",
       "      <th>2</th>\n",
       "      <td>2016-02-03 14:51:57</td>\n",
       "      <td>Lager, Tequila,  ,  ,  ,  ,  ,  ,  ,</td>\n",
       "    </tr>\n",
       "    <tr>\n",
       "      <th>3</th>\n",
       "      <td>2016-07-18 22:28:43</td>\n",
       "      <td>Malibu rum, Light rum,  , 151 proof rum, Dark ...</td>\n",
       "    </tr>\n",
       "    <tr>\n",
       "      <th>4</th>\n",
       "      <td>2016-10-05 12:36:28</td>\n",
       "      <td>Dark rum, Light rum,  , Vodka, Orange juice,  ...</td>\n",
       "    </tr>\n",
       "    <tr>\n",
       "      <th>...</th>\n",
       "      <td>...</td>\n",
       "      <td>...</td>\n",
       "    </tr>\n",
       "    <tr>\n",
       "      <th>541</th>\n",
       "      <td>2017-01-28 16:18:33</td>\n",
       "      <td>Amaretto, Rum,  , Kool-Aid,  ,  ,  ,  ,  ,</td>\n",
       "    </tr>\n",
       "    <tr>\n",
       "      <th>542</th>\n",
       "      <td>2017-01-28 16:25:52</td>\n",
       "      <td>Cointreau, Lemon juice,  , Ice, Lemon,  ,  ,  ...</td>\n",
       "    </tr>\n",
       "    <tr>\n",
       "      <th>543</th>\n",
       "      <td>2017-01-28 16:28:50</td>\n",
       "      <td>Beer, Root beer,  , Lemonade, Coca-Cola, 7-Up,...</td>\n",
       "    </tr>\n",
       "    <tr>\n",
       "      <th>544</th>\n",
       "      <td>2017-01-28 16:32:35</td>\n",
       "      <td>Vodka, Ouzo,  ,  ,  ,  ,  ,  ,  ,</td>\n",
       "    </tr>\n",
       "    <tr>\n",
       "      <th>545</th>\n",
       "      <td>2017-01-28 16:34:43</td>\n",
       "      <td>Sambuca, Bailey's irish cream,  , White Creme ...</td>\n",
       "    </tr>\n",
       "  </tbody>\n",
       "</table>\n",
       "<p>546 rows × 2 columns</p>\n",
       "</div>"
      ],
      "text/plain": [
       "            dateModified                                        Ingredients\n",
       "0    2016-07-18 22:49:04      Creme de Cacao, Vodka,  ,  ,  ,  ,  ,  ,  ,  \n",
       "1    2016-07-18 22:27:04  Absolut Kurant, Grand Marnier,  , Chambord ras...\n",
       "2    2016-02-03 14:51:57             Lager, Tequila,  ,  ,  ,  ,  ,  ,  ,  \n",
       "3    2016-07-18 22:28:43  Malibu rum, Light rum,  , 151 proof rum, Dark ...\n",
       "4    2016-10-05 12:36:28  Dark rum, Light rum,  , Vodka, Orange juice,  ...\n",
       "..                   ...                                                ...\n",
       "541  2017-01-28 16:18:33       Amaretto, Rum,  , Kool-Aid,  ,  ,  ,  ,  ,  \n",
       "542  2017-01-28 16:25:52  Cointreau, Lemon juice,  , Ice, Lemon,  ,  ,  ...\n",
       "543  2017-01-28 16:28:50  Beer, Root beer,  , Lemonade, Coca-Cola, 7-Up,...\n",
       "544  2017-01-28 16:32:35                Vodka, Ouzo,  ,  ,  ,  ,  ,  ,  ,  \n",
       "545  2017-01-28 16:34:43  Sambuca, Bailey's irish cream,  , White Creme ...\n",
       "\n",
       "[546 rows x 2 columns]"
      ]
     },
     "execution_count": 29,
     "metadata": {},
     "output_type": "execute_result"
    }
   ],
   "source": [
    "df_kaggle"
   ]
  },
  {
   "cell_type": "code",
   "execution_count": 30,
   "id": "c4ad6316",
   "metadata": {},
   "outputs": [],
   "source": [
    "df_kaggle['dateModified'] = df_kaggle['dateModified'].str[:-12] #cleaning the date"
   ]
  },
  {
   "cell_type": "code",
   "execution_count": 31,
   "id": "7701c95b",
   "metadata": {},
   "outputs": [],
   "source": [
    "df_kaggle['dateModified'] = df_kaggle['dateModified'].astype('datetime64[ns]')"
   ]
  },
  {
   "cell_type": "code",
   "execution_count": 32,
   "id": "e49b554e",
   "metadata": {},
   "outputs": [
    {
     "data": {
      "text/plain": [
       "dtype('<M8[ns]')"
      ]
     },
     "execution_count": 32,
     "metadata": {},
     "output_type": "execute_result"
    }
   ],
   "source": [
    "df_kaggle['dateModified'].dtypes #means type object"
   ]
  },
  {
   "cell_type": "code",
   "execution_count": 33,
   "id": "62531e48",
   "metadata": {},
   "outputs": [],
   "source": [
    "from datetime import datetime as dt"
   ]
  },
  {
   "cell_type": "code",
   "execution_count": 34,
   "id": "6c2c1b4c",
   "metadata": {},
   "outputs": [],
   "source": [
    "df_kaggle['dateModified']=df_kaggle['dateModified'].dt.strftime(\"%Y-%m\")"
   ]
  },
  {
   "cell_type": "code",
   "execution_count": 35,
   "id": "36a44333",
   "metadata": {},
   "outputs": [],
   "source": [
    "df_kaggle.rename(columns={'dateModified': 'Date'},inplace=True, errors='raise')"
   ]
  },
  {
   "cell_type": "code",
   "execution_count": 36,
   "id": "787a8b5a",
   "metadata": {},
   "outputs": [
    {
     "data": {
      "text/html": [
       "<div>\n",
       "<style scoped>\n",
       "    .dataframe tbody tr th:only-of-type {\n",
       "        vertical-align: middle;\n",
       "    }\n",
       "\n",
       "    .dataframe tbody tr th {\n",
       "        vertical-align: top;\n",
       "    }\n",
       "\n",
       "    .dataframe thead th {\n",
       "        text-align: right;\n",
       "    }\n",
       "</style>\n",
       "<table border=\"1\" class=\"dataframe\">\n",
       "  <thead>\n",
       "    <tr style=\"text-align: right;\">\n",
       "      <th></th>\n",
       "      <th>Date</th>\n",
       "      <th>Ingredients</th>\n",
       "    </tr>\n",
       "  </thead>\n",
       "  <tbody>\n",
       "    <tr>\n",
       "      <th>0</th>\n",
       "      <td>2016-07</td>\n",
       "      <td>Creme de Cacao, Vodka,  ,  ,  ,  ,  ,  ,  ,</td>\n",
       "    </tr>\n",
       "    <tr>\n",
       "      <th>1</th>\n",
       "      <td>2016-07</td>\n",
       "      <td>Absolut Kurant, Grand Marnier,  , Chambord ras...</td>\n",
       "    </tr>\n",
       "    <tr>\n",
       "      <th>2</th>\n",
       "      <td>2016-02</td>\n",
       "      <td>Lager, Tequila,  ,  ,  ,  ,  ,  ,  ,</td>\n",
       "    </tr>\n",
       "    <tr>\n",
       "      <th>3</th>\n",
       "      <td>2016-07</td>\n",
       "      <td>Malibu rum, Light rum,  , 151 proof rum, Dark ...</td>\n",
       "    </tr>\n",
       "    <tr>\n",
       "      <th>4</th>\n",
       "      <td>2016-10</td>\n",
       "      <td>Dark rum, Light rum,  , Vodka, Orange juice,  ...</td>\n",
       "    </tr>\n",
       "    <tr>\n",
       "      <th>...</th>\n",
       "      <td>...</td>\n",
       "      <td>...</td>\n",
       "    </tr>\n",
       "    <tr>\n",
       "      <th>541</th>\n",
       "      <td>2017-01</td>\n",
       "      <td>Amaretto, Rum,  , Kool-Aid,  ,  ,  ,  ,  ,</td>\n",
       "    </tr>\n",
       "    <tr>\n",
       "      <th>542</th>\n",
       "      <td>2017-01</td>\n",
       "      <td>Cointreau, Lemon juice,  , Ice, Lemon,  ,  ,  ...</td>\n",
       "    </tr>\n",
       "    <tr>\n",
       "      <th>543</th>\n",
       "      <td>2017-01</td>\n",
       "      <td>Beer, Root beer,  , Lemonade, Coca-Cola, 7-Up,...</td>\n",
       "    </tr>\n",
       "    <tr>\n",
       "      <th>544</th>\n",
       "      <td>2017-01</td>\n",
       "      <td>Vodka, Ouzo,  ,  ,  ,  ,  ,  ,  ,</td>\n",
       "    </tr>\n",
       "    <tr>\n",
       "      <th>545</th>\n",
       "      <td>2017-01</td>\n",
       "      <td>Sambuca, Bailey's irish cream,  , White Creme ...</td>\n",
       "    </tr>\n",
       "  </tbody>\n",
       "</table>\n",
       "<p>546 rows × 2 columns</p>\n",
       "</div>"
      ],
      "text/plain": [
       "        Date                                        Ingredients\n",
       "0    2016-07      Creme de Cacao, Vodka,  ,  ,  ,  ,  ,  ,  ,  \n",
       "1    2016-07  Absolut Kurant, Grand Marnier,  , Chambord ras...\n",
       "2    2016-02             Lager, Tequila,  ,  ,  ,  ,  ,  ,  ,  \n",
       "3    2016-07  Malibu rum, Light rum,  , 151 proof rum, Dark ...\n",
       "4    2016-10  Dark rum, Light rum,  , Vodka, Orange juice,  ...\n",
       "..       ...                                                ...\n",
       "541  2017-01       Amaretto, Rum,  , Kool-Aid,  ,  ,  ,  ,  ,  \n",
       "542  2017-01  Cointreau, Lemon juice,  , Ice, Lemon,  ,  ,  ...\n",
       "543  2017-01  Beer, Root beer,  , Lemonade, Coca-Cola, 7-Up,...\n",
       "544  2017-01                Vodka, Ouzo,  ,  ,  ,  ,  ,  ,  ,  \n",
       "545  2017-01  Sambuca, Bailey's irish cream,  , White Creme ...\n",
       "\n",
       "[546 rows x 2 columns]"
      ]
     },
     "execution_count": 36,
     "metadata": {},
     "output_type": "execute_result"
    }
   ],
   "source": [
    "df_kaggle"
   ]
  },
  {
   "cell_type": "code",
   "execution_count": 37,
   "id": "4d32071d",
   "metadata": {},
   "outputs": [],
   "source": [
    "df_comp=pd.concat([df, df_kaggle], axis=0)"
   ]
  },
  {
   "cell_type": "code",
   "execution_count": 38,
   "id": "51f7faf5",
   "metadata": {},
   "outputs": [],
   "source": [
    "# df_8 = pd.read_csv ('/Users/cathalijnvos/Documents/GitHub/IH-final-project/Data/cocktail_recipes.csv')"
   ]
  },
  {
   "cell_type": "code",
   "execution_count": 39,
   "id": "17b6a5a5",
   "metadata": {},
   "outputs": [],
   "source": [
    "df_9 = pd.read_csv ('/Users/cathalijnvos/Documents/GitHub/IH-final-project/Data/thestraghtup.csv')"
   ]
  },
  {
   "cell_type": "code",
   "execution_count": 40,
   "id": "3fdc4eb0",
   "metadata": {},
   "outputs": [],
   "source": [
    "# df_8"
   ]
  },
  {
   "cell_type": "code",
   "execution_count": 41,
   "id": "ba3077a9",
   "metadata": {},
   "outputs": [
    {
     "data": {
      "text/html": [
       "<div>\n",
       "<style scoped>\n",
       "    .dataframe tbody tr th:only-of-type {\n",
       "        vertical-align: middle;\n",
       "    }\n",
       "\n",
       "    .dataframe tbody tr th {\n",
       "        vertical-align: top;\n",
       "    }\n",
       "\n",
       "    .dataframe thead th {\n",
       "        text-align: right;\n",
       "    }\n",
       "</style>\n",
       "<table border=\"1\" class=\"dataframe\">\n",
       "  <thead>\n",
       "    <tr style=\"text-align: right;\">\n",
       "      <th></th>\n",
       "      <th>Date</th>\n",
       "      <th>Ingredients</th>\n",
       "    </tr>\n",
       "  </thead>\n",
       "  <tbody>\n",
       "    <tr>\n",
       "      <th>0</th>\n",
       "      <td>2013-06</td>\n",
       "      <td>1oz Gin,1oz Gran Classico,1oz Cynar,1 dropper ...</td>\n",
       "    </tr>\n",
       "    <tr>\n",
       "      <th>1</th>\n",
       "      <td>2013-03</td>\n",
       "      <td>1.5 Gin,.75 Cynar,.33 Campari,.5  Maurin Quina...</td>\n",
       "    </tr>\n",
       "    <tr>\n",
       "      <th>2</th>\n",
       "      <td>2014-03</td>\n",
       "      <td>.5oz Absinthe,.5oz Genepy,.5oz Green Chartreus...</td>\n",
       "    </tr>\n",
       "    <tr>\n",
       "      <th>3</th>\n",
       "      <td>2013-09</td>\n",
       "      <td>1.5oz Gin,.75oz Lillet Blanc,.75oz Orange Juic...</td>\n",
       "    </tr>\n",
       "    <tr>\n",
       "      <th>4</th>\n",
       "      <td>2013-02</td>\n",
       "      <td>.5oz Aperol,1.5oz Gin (Beefeater),.25oz Campar...</td>\n",
       "    </tr>\n",
       "    <tr>\n",
       "      <th>...</th>\n",
       "      <td>...</td>\n",
       "      <td>...</td>\n",
       "    </tr>\n",
       "    <tr>\n",
       "      <th>118</th>\n",
       "      <td>2013-04</td>\n",
       "      <td>1 oz Gin,.75oz Domaine de Canton,.25oz Aperol,...</td>\n",
       "    </tr>\n",
       "    <tr>\n",
       "      <th>119</th>\n",
       "      <td>2013-04</td>\n",
       "      <td>1oz Rye,1oz Allspice Dram,1oz Creme de Violett...</td>\n",
       "    </tr>\n",
       "    <tr>\n",
       "      <th>120</th>\n",
       "      <td>2013-07</td>\n",
       "      <td>2oz Bourbon,.75oz Lemon Juice,.75oz Simple Syr...</td>\n",
       "    </tr>\n",
       "    <tr>\n",
       "      <th>121</th>\n",
       "      <td>2014-11</td>\n",
       "      <td>1.5oz Apple Brandy,.75oz Yellow Chartreuse,.75...</td>\n",
       "    </tr>\n",
       "    <tr>\n",
       "      <th>122</th>\n",
       "      <td>2013-04</td>\n",
       "      <td>2oz Reposado Tequila,1oz St. Germain,.75oz Yel...</td>\n",
       "    </tr>\n",
       "  </tbody>\n",
       "</table>\n",
       "<p>123 rows × 2 columns</p>\n",
       "</div>"
      ],
      "text/plain": [
       "        Date                                        Ingredients\n",
       "0    2013-06  1oz Gin,1oz Gran Classico,1oz Cynar,1 dropper ...\n",
       "1    2013-03  1.5 Gin,.75 Cynar,.33 Campari,.5  Maurin Quina...\n",
       "2    2014-03  .5oz Absinthe,.5oz Genepy,.5oz Green Chartreus...\n",
       "3    2013-09  1.5oz Gin,.75oz Lillet Blanc,.75oz Orange Juic...\n",
       "4    2013-02  .5oz Aperol,1.5oz Gin (Beefeater),.25oz Campar...\n",
       "..       ...                                                ...\n",
       "118  2013-04  1 oz Gin,.75oz Domaine de Canton,.25oz Aperol,...\n",
       "119  2013-04  1oz Rye,1oz Allspice Dram,1oz Creme de Violett...\n",
       "120  2013-07  2oz Bourbon,.75oz Lemon Juice,.75oz Simple Syr...\n",
       "121  2014-11  1.5oz Apple Brandy,.75oz Yellow Chartreuse,.75...\n",
       "122  2013-04  2oz Reposado Tequila,1oz St. Germain,.75oz Yel...\n",
       "\n",
       "[123 rows x 2 columns]"
      ]
     },
     "execution_count": 41,
     "metadata": {},
     "output_type": "execute_result"
    }
   ],
   "source": [
    "df_9"
   ]
  },
  {
   "cell_type": "code",
   "execution_count": 42,
   "id": "260cf08f",
   "metadata": {},
   "outputs": [],
   "source": [
    "df_comp=pd.concat([df_comp, df_9], axis=0)"
   ]
  },
  {
   "cell_type": "code",
   "execution_count": 43,
   "id": "9f0d389e",
   "metadata": {},
   "outputs": [
    {
     "data": {
      "text/html": [
       "<div>\n",
       "<style scoped>\n",
       "    .dataframe tbody tr th:only-of-type {\n",
       "        vertical-align: middle;\n",
       "    }\n",
       "\n",
       "    .dataframe tbody tr th {\n",
       "        vertical-align: top;\n",
       "    }\n",
       "\n",
       "    .dataframe thead th {\n",
       "        text-align: right;\n",
       "    }\n",
       "</style>\n",
       "<table border=\"1\" class=\"dataframe\">\n",
       "  <thead>\n",
       "    <tr style=\"text-align: right;\">\n",
       "      <th></th>\n",
       "      <th>Date</th>\n",
       "      <th>Ingredients</th>\n",
       "    </tr>\n",
       "  </thead>\n",
       "  <tbody>\n",
       "    <tr>\n",
       "      <th>0</th>\n",
       "      <td>2022-05</td>\n",
       "      <td>Should I make more smoothie recipes?\\n\\n1/2 ba...</td>\n",
       "    </tr>\n",
       "    <tr>\n",
       "      <th>1</th>\n",
       "      <td>2022-05</td>\n",
       "      <td>The weekend isn’t over, so enjoy it with some ...</td>\n",
       "    </tr>\n",
       "    <tr>\n",
       "      <th>2</th>\n",
       "      <td>2022-05</td>\n",
       "      <td>Let’s make the drink of the summer! Yes, it’s ...</td>\n",
       "    </tr>\n",
       "    <tr>\n",
       "      <th>3</th>\n",
       "      <td>2022-05</td>\n",
       "      <td>Another easy weekend cocktail, Peach Bourbon S...</td>\n",
       "    </tr>\n",
       "    <tr>\n",
       "      <th>4</th>\n",
       "      <td>2022-05</td>\n",
       "      <td>Have you had an Irish coffee before? Better qu...</td>\n",
       "    </tr>\n",
       "    <tr>\n",
       "      <th>...</th>\n",
       "      <td>...</td>\n",
       "      <td>...</td>\n",
       "    </tr>\n",
       "    <tr>\n",
       "      <th>118</th>\n",
       "      <td>2013-04</td>\n",
       "      <td>1 oz Gin,.75oz Domaine de Canton,.25oz Aperol,...</td>\n",
       "    </tr>\n",
       "    <tr>\n",
       "      <th>119</th>\n",
       "      <td>2013-04</td>\n",
       "      <td>1oz Rye,1oz Allspice Dram,1oz Creme de Violett...</td>\n",
       "    </tr>\n",
       "    <tr>\n",
       "      <th>120</th>\n",
       "      <td>2013-07</td>\n",
       "      <td>2oz Bourbon,.75oz Lemon Juice,.75oz Simple Syr...</td>\n",
       "    </tr>\n",
       "    <tr>\n",
       "      <th>121</th>\n",
       "      <td>2014-11</td>\n",
       "      <td>1.5oz Apple Brandy,.75oz Yellow Chartreuse,.75...</td>\n",
       "    </tr>\n",
       "    <tr>\n",
       "      <th>122</th>\n",
       "      <td>2013-04</td>\n",
       "      <td>2oz Reposado Tequila,1oz St. Germain,.75oz Yel...</td>\n",
       "    </tr>\n",
       "  </tbody>\n",
       "</table>\n",
       "<p>1281 rows × 2 columns</p>\n",
       "</div>"
      ],
      "text/plain": [
       "        Date                                        Ingredients\n",
       "0    2022-05  Should I make more smoothie recipes?\\n\\n1/2 ba...\n",
       "1    2022-05  The weekend isn’t over, so enjoy it with some ...\n",
       "2    2022-05  Let’s make the drink of the summer! Yes, it’s ...\n",
       "3    2022-05  Another easy weekend cocktail, Peach Bourbon S...\n",
       "4    2022-05  Have you had an Irish coffee before? Better qu...\n",
       "..       ...                                                ...\n",
       "118  2013-04  1 oz Gin,.75oz Domaine de Canton,.25oz Aperol,...\n",
       "119  2013-04  1oz Rye,1oz Allspice Dram,1oz Creme de Violett...\n",
       "120  2013-07  2oz Bourbon,.75oz Lemon Juice,.75oz Simple Syr...\n",
       "121  2014-11  1.5oz Apple Brandy,.75oz Yellow Chartreuse,.75...\n",
       "122  2013-04  2oz Reposado Tequila,1oz St. Germain,.75oz Yel...\n",
       "\n",
       "[1281 rows x 2 columns]"
      ]
     },
     "execution_count": 43,
     "metadata": {},
     "output_type": "execute_result"
    }
   ],
   "source": [
    "df_comp"
   ]
  },
  {
   "cell_type": "code",
   "execution_count": 44,
   "id": "d0b13b24",
   "metadata": {},
   "outputs": [],
   "source": [
    "df_comp.to_csv('df_final.csv', index = False)"
   ]
  },
  {
   "cell_type": "code",
   "execution_count": null,
   "id": "39148396",
   "metadata": {},
   "outputs": [],
   "source": []
  },
  {
   "cell_type": "code",
   "execution_count": null,
   "id": "fe77a5ed",
   "metadata": {},
   "outputs": [],
   "source": []
  },
  {
   "cell_type": "code",
   "execution_count": null,
   "id": "0b0e08dd",
   "metadata": {},
   "outputs": [],
   "source": []
  }
 ],
 "metadata": {
  "kernelspec": {
   "display_name": "Python 3 (ipykernel)",
   "language": "python",
   "name": "python3"
  },
  "language_info": {
   "codemirror_mode": {
    "name": "ipython",
    "version": 3
   },
   "file_extension": ".py",
   "mimetype": "text/x-python",
   "name": "python",
   "nbconvert_exporter": "python",
   "pygments_lexer": "ipython3",
   "version": "3.8.2"
  }
 },
 "nbformat": 4,
 "nbformat_minor": 5
}
